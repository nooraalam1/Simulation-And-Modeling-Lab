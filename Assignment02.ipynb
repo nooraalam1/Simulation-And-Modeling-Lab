{
  "nbformat": 4,
  "nbformat_minor": 0,
  "metadata": {
    "colab": {
      "provenance": []
    },
    "kernelspec": {
      "name": "python3",
      "display_name": "Python 3"
    },
    "language_info": {
      "name": "python"
    }
  },
  "cells": [
    {
      "cell_type": "markdown",
      "source": [
        "#Noor A Alam (ID: 2215151014)\n",
        "#Tasks:<br>\n",
        "    Use numpy to create a 3×3 matrix of random integers between 1 and 50.  \n",
        "    1) Run the code twice\n",
        "    2) With a fixed seed (`np.random.seed(10)`) to ensure reproducibility.  \n",
        "    3) Without setting a seed, allowing random values to change each time.  \n",
        "    4) Observe and explain the differences in outputs.  (in a different cell as text)"
      ],
      "metadata": {
        "id": "JXXE4wocHZoD"
      }
    },
    {
      "cell_type": "code",
      "source": [
        "import numpy as np\n",
        "x = np.random.randint(1,51,size=(3,3))\n",
        "print(x)"
      ],
      "metadata": {
        "colab": {
          "base_uri": "https://localhost:8080/"
        },
        "id": "WKmtYF1Cp_4h",
        "outputId": "7e5f8afe-7a52-4687-978c-5c0494731155"
      },
      "execution_count": 12,
      "outputs": [
        {
          "output_type": "stream",
          "name": "stdout",
          "text": [
            "[[49 42 49]\n",
            " [20 24 18]\n",
            " [48  4 20]]\n"
          ]
        }
      ]
    },
    {
      "cell_type": "markdown",
      "source": [
        "\n"
      ],
      "metadata": {
        "id": "7ql1paqyIoOJ"
      }
    },
    {
      "cell_type": "code",
      "source": [
        "np.random.seed(10)\n",
        "x = np.random.randint(1,51,size=(3,3))\n",
        "print(x)"
      ],
      "metadata": {
        "colab": {
          "base_uri": "https://localhost:8080/"
        },
        "id": "a_OCCXAiqyrL",
        "outputId": "71be3d55-ad08-4fb2-8d9e-1a283bf70df5"
      },
      "execution_count": 16,
      "outputs": [
        {
          "output_type": "stream",
          "name": "stdout",
          "text": [
            "[[10 37 16]\n",
            " [ 1 50 29]\n",
            " [26 30 49]]\n"
          ]
        }
      ]
    },
    {
      "cell_type": "code",
      "source": [
        "x = np.random.randint(1,51,size=(3,3))\n",
        "print(x)"
      ],
      "metadata": {
        "colab": {
          "base_uri": "https://localhost:8080/"
        },
        "id": "G-u8A3FurkfL",
        "outputId": "4358acee-e107-4d2e-cb7d-4cf718272cc7"
      },
      "execution_count": 18,
      "outputs": [
        {
          "output_type": "stream",
          "name": "stdout",
          "text": [
            "[[37 48 12]\n",
            " [25 44 34]\n",
            " [ 9 37 15]]\n"
          ]
        }
      ]
    },
    {
      "cell_type": "markdown",
      "source": [
        "#Observation and explaination\n",
        "\n",
        "While using a fixed seed (np.random.seed(10)), NumPy ensures that the same random numbers are generated every time the code runs. This makes results reproducible, which is useful for debugging and sharing code.\n",
        "\n",
        "Without setting a seed, NumPy generates truly random numbers each time.Thus, the matrix values will change with every execution, making the outputs unpredictable."
      ],
      "metadata": {
        "id": "wfb8zB2_r2en"
      }
    }
  ]
}
